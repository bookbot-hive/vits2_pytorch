{
 "cells": [
  {
   "cell_type": "code",
   "execution_count": 1,
   "metadata": {},
   "outputs": [],
   "source": [
    "import onnxruntime as ort\n",
    "import IPython.display as ipd\n",
    "\n",
    "import os\n",
    "import json\n",
    "import math\n",
    "import torch\n",
    "from torch import nn\n",
    "from torch.nn import functional as F\n",
    "from torch.utils.data import DataLoader\n",
    "\n",
    "import commons\n",
    "import utils\n",
    "from models import SynthesizerTrn\n",
    "from text.symbols import symbols\n",
    "from text import text_to_sequence\n",
    "\n",
    "from scipy.io.wavfile import write\n",
    "\n",
    "def get_text(text, hps):\n",
    "    text_norm = text_to_sequence(text, hps.data.text_cleaners)\n",
    "    if hps.data.add_blank:\n",
    "        text_norm = commons.intersperse(text_norm, 0)\n",
    "\n",
    "    text_norm = torch.LongTensor(text_norm)\n",
    "    return text_norm\n",
    "\n",
    "providers = [\"CPUExecutionProvider\"]\n",
    "sess_options = ort.SessionOptions()\n",
    "onnx_sess = ort.InferenceSession(\n",
    "    \"onnx/vits2.onnx\",\n",
    "    sess_options=sess_options,\n",
    "    providers=providers,\n",
    ")"
   ]
  },
  {
   "cell_type": "code",
   "execution_count": 2,
   "metadata": {},
   "outputs": [],
   "source": [
    "import numpy as np\n",
    "\n",
    "hps = utils.get_hparams_from_file(\"./configs/vits2_ljs_nosdp.json\")\n",
    "stn_tst = get_text(\"Hello\", hps)\n",
    "phoneme_ids = stn_tst\n",
    "text = np.expand_dims(np.array(phoneme_ids, dtype=np.int64), 0)\n",
    "text_lengths = np.array([text.shape[1]], dtype=np.int64)\n",
    "scales = np.array([0.667, 1.0, 0.8], dtype=np.float32)\n",
    "sid=None"
   ]
  },
  {
   "cell_type": "code",
   "execution_count": 3,
   "metadata": {},
   "outputs": [
    {
     "data": {
      "text/plain": [
       "((1, 6), array([6]))"
      ]
     },
     "execution_count": 3,
     "metadata": {},
     "output_type": "execute_result"
    }
   ],
   "source": [
    "text.shape, text_lengths"
   ]
  },
  {
   "cell_type": "code",
   "execution_count": 4,
   "metadata": {},
   "outputs": [],
   "source": [
    "audio, attention = onnx_sess.run(˜\n",
    "    None,\n",
    "    {\n",
    "        \"input\": text,\n",
    "        \"input_lengths\": text_lengths,\n",
    "        \"scales\": scales,\n",
    "        \"sid\": sid  \n",
    "    },\n",
    ")"
   ]
  },
  {
   "cell_type": "code",
   "execution_count": 7,
   "metadata": {},
   "outputs": [],
   "source": [
    "import IPython.display as ipd\n",
    "import soundfile as sf\n",
    "\n",
    "ipd.Audio(audio[0, 0], rate=22050)\n",
    "sf.write(\"hello.wav\", audio[0, 0], 22050)"
   ]
  },
  {
   "cell_type": "code",
   "execution_count": null,
   "metadata": {},
   "outputs": [],
   "source": []
  }
 ],
 "metadata": {
  "kernelspec": {
   "display_name": "vits2",
   "language": "python",
   "name": "python3"
  },
  "language_info": {
   "codemirror_mode": {
    "name": "ipython",
    "version": 3
   },
   "file_extension": ".py",
   "mimetype": "text/x-python",
   "name": "python",
   "nbconvert_exporter": "python",
   "pygments_lexer": "ipython3",
   "version": "3.8.17"
  },
  "orig_nbformat": 4
 },
 "nbformat": 4,
 "nbformat_minor": 2
}
